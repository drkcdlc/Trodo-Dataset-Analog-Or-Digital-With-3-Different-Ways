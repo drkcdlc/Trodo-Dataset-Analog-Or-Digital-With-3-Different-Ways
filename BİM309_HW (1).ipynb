{
  "cells": [
    {
      "cell_type": "markdown",
      "metadata": {
        "id": "YaSvsKD-4onl"
      },
      "source": [
        "# Data Preparation For Classification"
      ]
    },
    {
      "cell_type": "code",
      "execution_count": null,
      "metadata": {
        "colab": {
          "base_uri": "https://localhost:8080/"
        },
        "id": "e1gKjSs_ZdsG",
        "outputId": "02c6e2b9-3622-4b2b-927b-e4bd9bc2c00e"
      },
      "outputs": [
        {
          "name": "stdout",
          "output_type": "stream",
          "text": [
            "Mounted at /content/drive\n"
          ]
        }
      ],
      "source": [
        "import sys\n",
        "assert sys.version_info >= (3, 5)\n",
        "\n",
        "import sklearn\n",
        "assert sklearn.__version__ >= \"0.20\"\n",
        "\n",
        "import numpy as np\n",
        "import os\n",
        "from google.colab import drive\n",
        "import pandas as pd\n",
        "\n",
        "\n",
        "from PIL import ImageFile\n",
        "ImageFile.LOAD_TRUNCATED_IMAGES = True\n",
        "\n",
        "drive.mount('/content/drive', force_remount=True)\n",
        "\n",
        "input_dir = \"/content/drive/My Drive/yourtrododatasetdirectory\"\n",
        "\n",
        "import json\n",
        "jsonval = open(\"/content/drive/My Drive/yourtrododatasetdirectory/trodo-v01/trodo-v01/ground truth/groundtruth.json\")\n",
        "jsondata = json.load(jsonval)\n",
        "df = pd.json_normalize(jsondata[\"odometers\"])\n",
        "datas = df.drop(\"mileage\", axis = 1)"
      ]
    },
    {
      "cell_type": "code",
      "execution_count": null,
      "metadata": {
        "id": "YldSiyt731fV"
      },
      "outputs": [],
      "source": [
        "from skimage.io import imread\n",
        "from skimage.transform import resize\n",
        "from skimage.color import rgb2gray\n",
        "import matplotlib as mpl\n",
        "import matplotlib.pyplot as plt\n",
        "images = []\n",
        "labels = []\n",
        "for file in os.listdir(input_dir):\n",
        "    img_path = os.path.join(input_dir, file)\n",
        "    img = imread(img_path)\n",
        "    img = rgb2gray(img)\n",
        "    labels.append(datas.loc[datas['image'] == file, 'odometer_type'].iloc[0])\n",
        "    img = resize(img, (100,100))\n",
        "    images.append(img)"
      ]
    },
    {
      "cell_type": "code",
      "execution_count": null,
      "metadata": {
        "colab": {
          "base_uri": "https://localhost:8080/",
          "height": 424
        },
        "id": "u1JviOAgIEM2",
        "outputId": "b12c4109-4e00-45b9-c88e-9c1ed2023f48"
      },
      "outputs": [
        {
          "data": {
            "text/plain": [
              "(-0.5, 99.5, 99.5, -0.5)"
            ]
          },
          "execution_count": 37,
          "metadata": {},
          "output_type": "execute_result"
        },
        {
          "data": {
            "image/png": "[encoded data removed]",
            "text/plain": [
              "<Figure size 640x480 with 1 Axes>"
            ]
          },
          "metadata": {},
          "output_type": "display_data"
        }
      ],
      "source": [
        "plt.imshow(images[214], cmap=mpl.cm.binary)\n",
        "plt.axis(\"off\")"
      ]
    },
    {
      "cell_type": "code",
      "execution_count": null,
      "metadata": {
        "id": "xZyVtlQO-zE2"
      },
      "outputs": [],
      "source": [
        "from sklearn.model_selection import train_test_split\n",
        "images = np.asarray(images)\n",
        "labels = np.asarray(labels)\n",
        "x_train, x_test, y_train, y_test = train_test_split(images, labels, test_size=0.2, shuffle=True, stratify=labels)"
      ]
    },
    {
      "cell_type": "code",
      "execution_count": null,
      "metadata": {
        "colab": {
          "base_uri": "https://localhost:8080/"
        },
        "id": "UzYhUJz9MPGT",
        "outputId": "47033e08-32e3-4f97-b531-833597c86061"
      },
      "outputs": [
        {
          "data": {
            "text/plain": [
              "array([[[0.04586255, 0.04648449, 0.04660948, ..., 0.05172734,\n",
              "         0.04266679, 0.03864133],\n",
              "        [0.04755049, 0.04573463, 0.04596164, ..., 0.06293559,\n",
              "         0.05913499, 0.04569632],\n",
              "        [0.049741  , 0.04858141, 0.04850294, ..., 0.0469295 ,\n",
              "         0.04266541, 0.03929042],\n",
              "        ...,\n",
              "        [0.27903845, 0.29503092, 0.29841883, ..., 0.11964375,\n",
              "         0.12864939, 0.20306667],\n",
              "        [0.32941659, 0.28282486, 0.2360247 , ..., 0.20561692,\n",
              "         0.28175281, 0.3768567 ],\n",
              "        [0.30101982, 0.24168752, 0.24388897, ..., 0.34352756,\n",
              "         0.3934934 , 0.40780895]],\n",
              "\n",
              "       [[0.43562188, 0.41820524, 0.40902882, ..., 0.23310203,\n",
              "         0.23486876, 0.23740369],\n",
              "        [0.42090225, 0.40259269, 0.40440967, ..., 0.23248408,\n",
              "         0.23272638, 0.23579605],\n",
              "        [0.40617545, 0.39559856, 0.39638158, ..., 0.23275521,\n",
              "         0.23263008, 0.23433848],\n",
              "        ...,\n",
              "        [0.32607608, 0.33638546, 0.33653645, ..., 0.63392235,\n",
              "         0.69045469, 0.75258513],\n",
              "        [0.35777238, 0.37222376, 0.37063564, ..., 0.70126614,\n",
              "         0.78634007, 0.79780574],\n",
              "        [0.37603973, 0.36617694, 0.35769842, ..., 0.79544551,\n",
              "         0.79403574, 0.76002986]],\n",
              "\n",
              "       [[0.0151601 , 0.017454  , 0.01771537, ..., 0.02955018,\n",
              "         0.03073616, 0.03157147],\n",
              "        [0.01762754, 0.01715205, 0.01641664, ..., 0.0296626 ,\n",
              "         0.02940374, 0.02864263],\n",
              "        [0.01629079, 0.01614537, 0.01610519, ..., 0.03220209,\n",
              "         0.03143301, 0.02943295],\n",
              "        ...,\n",
              "        [0.02783714, 0.02811529, 0.0290299 , ..., 0.05327364,\n",
              "         0.0517992 , 0.05147762],\n",
              "        [0.02848735, 0.02897912, 0.03125752, ..., 0.04574294,\n",
              "         0.04588809, 0.04617471],\n",
              "        [0.03167443, 0.03144456, 0.03347392, ..., 0.04020602,\n",
              "         0.04027504, 0.03932324]],\n",
              "\n",
              "       ...,\n",
              "\n",
              "       [[0.01718473, 0.02080383, 0.02188802, ..., 0.02521804,\n",
              "         0.02521804, 0.02521804],\n",
              "        [0.01830315, 0.02181893, 0.02413712, ..., 0.02521804,\n",
              "         0.02521804, 0.02521804],\n",
              "        [0.02172649, 0.02269529, 0.0242431 , ..., 0.02521804,\n",
              "         0.02521804, 0.02521804],\n",
              "        ...,\n",
              "        [0.029513  , 0.03024827, 0.02921114, ..., 0.03868169,\n",
              "         0.03990454, 0.04187076],\n",
              "        [0.04230516, 0.04633264, 0.0454384 , ..., 0.16557922,\n",
              "         0.18240843, 0.19453507],\n",
              "        [0.04350746, 0.04726365, 0.04521122, ..., 0.24776706,\n",
              "         0.25606702, 0.2503753 ]],\n",
              "\n",
              "       [[0.02086061, 0.02071452, 0.01945054, ..., 0.02515798,\n",
              "         0.02450661, 0.02319597],\n",
              "        [0.01971142, 0.02036904, 0.01914391, ..., 0.02406402,\n",
              "         0.02332913, 0.02360364],\n",
              "        [0.01844542, 0.01867183, 0.01707787, ..., 0.02169469,\n",
              "         0.0214192 , 0.02217727],\n",
              "        ...,\n",
              "        [0.01851832, 0.0186942 , 0.01900589, ..., 0.16464251,\n",
              "         0.16929837, 0.17063376],\n",
              "        [0.02047931, 0.0204741 , 0.01999473, ..., 0.16142055,\n",
              "         0.16210849, 0.15458543],\n",
              "        [0.02094693, 0.02094481, 0.0207578 , ..., 0.15549238,\n",
              "         0.14694081, 0.13081361]],\n",
              "\n",
              "       [[0.33376188, 0.34293912, 0.35145652, ..., 0.08981809,\n",
              "         0.08461064, 0.07699238],\n",
              "        [0.34038978, 0.34698382, 0.34581977, ..., 0.12081101,\n",
              "         0.08737166, 0.07554795],\n",
              "        [0.34122172, 0.34981817, 0.32876041, ..., 0.20442594,\n",
              "         0.11579875, 0.07853119],\n",
              "        ...,\n",
              "        [0.10684299, 0.1245942 , 0.15878477, ..., 0.43272481,\n",
              "         0.41282564, 0.3950565 ],\n",
              "        [0.10660956, 0.11532443, 0.1342919 , ..., 0.49214489,\n",
              "         0.46154133, 0.44052111],\n",
              "        [0.10684038, 0.11209113, 0.12218628, ..., 0.50963456,\n",
              "         0.48321247, 0.45384476]]])"
            ]
          },
          "execution_count": 6,
          "metadata": {},
          "output_type": "execute_result"
        }
      ],
      "source": [
        "x_test"
      ]
    },
    {
      "cell_type": "markdown",
      "metadata": {
        "id": "JiY-S_HaOFfM"
      },
      "source": [
        "# KNN"
      ]
    },
    {
      "cell_type": "code",
      "execution_count": null,
      "metadata": {
        "id": "W4KCwyVgZfwN"
      },
      "outputs": [],
      "source": [
        "nsamples, nx, ny = x_train.shape\n",
        "x_train_dataset = x_train.reshape((nsamples,nx*ny))"
      ]
    },
    {
      "cell_type": "code",
      "execution_count": null,
      "metadata": {
        "colab": {
          "base_uri": "https://localhost:8080/",
          "height": 117
        },
        "id": "V7Gsd4KQIz0T",
        "outputId": "b3f5f9cb-a0a3-496d-bd3c-6b2124aece88"
      },
      "outputs": [
        {
          "data": {
            "text/html": [
              "<style>#sk-container-id-1 {color: black;background-color: white;}#sk-container-id-1 pre{padding: 0;}#sk-container-id-1 div.sk-toggleable {background-color: white;}#sk-container-id-1 label.sk-toggleable__label {cursor: pointer;display: block;width: 100%;margin-bottom: 0;padding: 0.3em;box-sizing: border-box;text-align: center;}#sk-container-id-1 label.sk-toggleable__label-arrow:before {content: \"▸\";float: left;margin-right: 0.25em;color: #696969;}#sk-container-id-1 label.sk-toggleable__label-arrow:hover:before {color: black;}#sk-container-id-1 div.sk-estimator:hover label.sk-toggleable__label-arrow:before {color: black;}#sk-container-id-1 div.sk-toggleable__content {max-height: 0;max-width: 0;overflow: hidden;text-align: left;background-color: #f0f8ff;}#sk-container-id-1 div.sk-toggleable__content pre {margin: 0.2em;color: black;border-radius: 0.25em;background-color: #f0f8ff;}#sk-container-id-1 input.sk-toggleable__control:checked~div.sk-toggleable__content {max-height: 200px;max-width: 100%;overflow: auto;}#sk-container-id-1 input.sk-toggleable__control:checked~label.sk-toggleable__label-arrow:before {content: \"▾\";}#sk-container-id-1 div.sk-estimator input.sk-toggleable__control:checked~label.sk-toggleable__label {background-color: #d4ebff;}#sk-container-id-1 div.sk-label input.sk-toggleable__control:checked~label.sk-toggleable__label {background-color: #d4ebff;}#sk-container-id-1 input.sk-hidden--visually {border: 0;clip: rect(1px 1px 1px 1px);clip: rect(1px, 1px, 1px, 1px);height: 1px;margin: -1px;overflow: hidden;padding: 0;position: absolute;width: 1px;}#sk-container-id-1 div.sk-estimator {font-family: monospace;background-color: #f0f8ff;border: 1px dotted black;border-radius: 0.25em;box-sizing: border-box;margin-bottom: 0.5em;}#sk-container-id-1 div.sk-estimator:hover {background-color: #d4ebff;}#sk-container-id-1 div.sk-parallel-item::after {content: \"\";width: 100%;border-bottom: 1px solid gray;flex-grow: 1;}#sk-container-id-1 div.sk-label:hover label.sk-toggleable__label {background-color: #d4ebff;}#sk-container-id-1 div.sk-serial::before {content: \"\";position: absolute;border-left: 1px solid gray;box-sizing: border-box;top: 0;bottom: 0;left: 50%;z-index: 0;}#sk-container-id-1 div.sk-serial {display: flex;flex-direction: column;align-items: center;background-color: white;padding-right: 0.2em;padding-left: 0.2em;position: relative;}#sk-container-id-1 div.sk-item {position: relative;z-index: 1;}#sk-container-id-1 div.sk-parallel {display: flex;align-items: stretch;justify-content: center;background-color: white;position: relative;}#sk-container-id-1 div.sk-item::before, #sk-container-id-1 div.sk-parallel-item::before {content: \"\";position: absolute;border-left: 1px solid gray;box-sizing: border-box;top: 0;bottom: 0;left: 50%;z-index: -1;}#sk-container-id-1 div.sk-parallel-item {display: flex;flex-direction: column;z-index: 1;position: relative;background-color: white;}#sk-container-id-1 div.sk-parallel-item:first-child::after {align-self: flex-end;width: 50%;}#sk-container-id-1 div.sk-parallel-item:last-child::after {align-self: flex-start;width: 50%;}#sk-container-id-1 div.sk-parallel-item:only-child::after {width: 0;}#sk-container-id-1 div.sk-dashed-wrapped {border: 1px dashed gray;margin: 0 0.4em 0.5em 0.4em;box-sizing: border-box;padding-bottom: 0.4em;background-color: white;}#sk-container-id-1 div.sk-label label {font-family: monospace;font-weight: bold;display: inline-block;line-height: 1.2em;}#sk-container-id-1 div.sk-label-container {text-align: center;}#sk-container-id-1 div.sk-container {/* jupyter's `normalize.less` sets `[hidden] { display: none; }` but bootstrap.min.css set `[hidden] { display: none !important; }` so we also need the `!important` here to be able to override the default hidden behavior on the sphinx rendered scikit-learn.org. See: https://github.com/scikit-learn/scikit-learn/issues/21755 */display: inline-block !important;position: relative;}#sk-container-id-1 div.sk-text-repr-fallback {display: none;}</style><div id=\"sk-container-id-1\" class=\"sk-top-container\"><div class=\"sk-text-repr-fallback\"><pre>RandomizedSearchCV(cv=5, estimator=KNeighborsClassifier(),\n",
              "                   param_distributions=[{&#x27;algorithm&#x27;: [&#x27;ball_tree&#x27;, &#x27;kd_tree&#x27;],\n",
              "                                         &#x27;leaf_size&#x27;: &lt;scipy.stats._distn_infrastructure.rv_discrete_frozen object at 0x7c1b08fdf2b0&gt;,\n",
              "                                         &#x27;n_neighbors&#x27;: &lt;scipy.stats._distn_infrastructure.rv_discrete_frozen object at 0x7c1b08fdf220&gt;,\n",
              "                                         &#x27;p&#x27;: [1, 2],\n",
              "                                         &#x27;weights&#x27;: [&#x27;uniform&#x27;, &#x27;distance&#x27;]}])</pre><b>In a Jupyter environment, please rerun this cell to show the HTML representation or trust the notebook. <br />On GitHub, the HTML representation is unable to render, please try loading this page with nbviewer.org.</b></div><div class=\"sk-container\" hidden><div class=\"sk-item sk-dashed-wrapped\"><div class=\"sk-label-container\"><div class=\"sk-label sk-toggleable\"><input class=\"sk-toggleable__control sk-hidden--visually\" id=\"sk-estimator-id-1\" type=\"checkbox\" ><label for=\"sk-estimator-id-1\" class=\"sk-toggleable__label sk-toggleable__label-arrow\">RandomizedSearchCV</label><div class=\"sk-toggleable__content\"><pre>RandomizedSearchCV(cv=5, estimator=KNeighborsClassifier(),\n",
              "                   param_distributions=[{&#x27;algorithm&#x27;: [&#x27;ball_tree&#x27;, &#x27;kd_tree&#x27;],\n",
              "                                         &#x27;leaf_size&#x27;: &lt;scipy.stats._distn_infrastructure.rv_discrete_frozen object at 0x7c1b08fdf2b0&gt;,\n",
              "                                         &#x27;n_neighbors&#x27;: &lt;scipy.stats._distn_infrastructure.rv_discrete_frozen object at 0x7c1b08fdf220&gt;,\n",
              "                                         &#x27;p&#x27;: [1, 2],\n",
              "                                         &#x27;weights&#x27;: [&#x27;uniform&#x27;, &#x27;distance&#x27;]}])</pre></div></div></div><div class=\"sk-parallel\"><div class=\"sk-parallel-item\"><div class=\"sk-item\"><div class=\"sk-label-container\"><div class=\"sk-label sk-toggleable\"><input class=\"sk-toggleable__control sk-hidden--visually\" id=\"sk-estimator-id-2\" type=\"checkbox\" ><label for=\"sk-estimator-id-2\" class=\"sk-toggleable__label sk-toggleable__label-arrow\">estimator: KNeighborsClassifier</label><div class=\"sk-toggleable__content\"><pre>KNeighborsClassifier()</pre></div></div></div><div class=\"sk-serial\"><div class=\"sk-item\"><div class=\"sk-estimator sk-toggleable\"><input class=\"sk-toggleable__control sk-hidden--visually\" id=\"sk-estimator-id-3\" type=\"checkbox\" ><label for=\"sk-estimator-id-3\" class=\"sk-toggleable__label sk-toggleable__label-arrow\">KNeighborsClassifier</label><div class=\"sk-toggleable__content\"><pre>KNeighborsClassifier()</pre></div></div></div></div></div></div></div></div></div></div>"
            ],
            "text/plain": [
              "RandomizedSearchCV(cv=5, estimator=KNeighborsClassifier(),\n",
              "                   param_distributions=[{'algorithm': ['ball_tree', 'kd_tree'],\n",
              "                                         'leaf_size': <scipy.stats._distn_infrastructure.rv_discrete_frozen object at 0x7c1b08fdf2b0>,\n",
              "                                         'n_neighbors': <scipy.stats._distn_infrastructure.rv_discrete_frozen object at 0x7c1b08fdf220>,\n",
              "                                         'p': [1, 2],\n",
              "                                         'weights': ['uniform', 'distance']}])"
            ]
          },
          "execution_count": 8,
          "metadata": {},
          "output_type": "execute_result"
        }
      ],
      "source": [
        "from sklearn.neighbors import KNeighborsClassifier\n",
        "from sklearn.model_selection import RandomizedSearchCV\n",
        "from scipy.stats import randint\n",
        "import random\n",
        "\n",
        "param_distribs_knn = [\n",
        "        {'n_neighbors': randint(low=1, high=10), 'weights': [\"uniform\", \"distance\"], 'p': [1,2], 'leaf_size': randint(low=1, high=50), 'algorithm': [\"ball_tree\", \"kd_tree\"]},\n",
        "    ]\n",
        "knn = KNeighborsClassifier()\n",
        "rnd_search_knn = RandomizedSearchCV(knn, param_distributions=param_distribs_knn,\n",
        "                                n_iter=10, cv=5)\n",
        "rnd_search_knn.fit(x_train_dataset, y_train)"
      ]
    },
    {
      "cell_type": "code",
      "execution_count": null,
      "metadata": {
        "colab": {
          "base_uri": "https://localhost:8080/"
        },
        "id": "I67aevZ-hnz_",
        "outputId": "60b831e9-603f-440c-fcd4-ce72ab111c8d"
      },
      "outputs": [
        {
          "data": {
            "text/plain": [
              "{'algorithm': 'ball_tree',\n",
              " 'leaf_size': 37,\n",
              " 'n_neighbors': 2,\n",
              " 'p': 1,\n",
              " 'weights': 'distance'}"
            ]
          },
          "execution_count": 9,
          "metadata": {},
          "output_type": "execute_result"
        }
      ],
      "source": [
        "rnd_search_knn.best_params_"
      ]
    },
    {
      "cell_type": "code",
      "execution_count": null,
      "metadata": {
        "id": "v8D6BOo4P_qM"
      },
      "outputs": [],
      "source": [
        "nsamples, nx, ny = x_test.shape\n",
        "x_test_dataset = x_test.reshape((nsamples,nx*ny))\n",
        "y_knn_predicted = rnd_search_knn.predict(x_test_dataset)"
      ]
    },
    {
      "cell_type": "code",
      "execution_count": null,
      "metadata": {
        "colab": {
          "base_uri": "https://localhost:8080/"
        },
        "id": "NrWKVl5RPoHJ",
        "outputId": "3ceecf3d-5b3e-4960-f412-9dc9aad57f8e"
      },
      "outputs": [
        {
          "data": {
            "text/plain": [
              "0.8870292887029289"
            ]
          },
          "execution_count": 21,
          "metadata": {},
          "output_type": "execute_result"
        }
      ],
      "source": [
        "from sklearn.metrics import accuracy_score, precision_score, recall_score, f1_score, confusion_matrix\n",
        "accuracy_score(y_test, y_knn_predicted)"
      ]
    },
    {
      "cell_type": "code",
      "execution_count": null,
      "metadata": {
        "colab": {
          "base_uri": "https://localhost:8080/"
        },
        "id": "tGB2NpqYdfE6",
        "outputId": "78f94ed9-a79e-4f45-a544-cfcee6d98963"
      },
      "outputs": [
        {
          "data": {
            "text/plain": [
              "0.8662790697674418"
            ]
          },
          "execution_count": 22,
          "metadata": {},
          "output_type": "execute_result"
        }
      ],
      "source": [
        "precision_score(y_test, y_knn_predicted, average=\"binary\", pos_label='digital')"
      ]
    },
    {
      "cell_type": "code",
      "execution_count": null,
      "metadata": {
        "colab": {
          "base_uri": "https://localhost:8080/"
        },
        "id": "1gFfUHbaQAI0",
        "outputId": "ac3d1e0c-38c7-4f9f-e1d0-af5d5df1e7e0"
      },
      "outputs": [
        {
          "data": {
            "text/plain": [
              "0.9738562091503268"
            ]
          },
          "execution_count": 23,
          "metadata": {},
          "output_type": "execute_result"
        }
      ],
      "source": [
        "recall_score(y_test, y_knn_predicted, average=\"binary\", pos_label='digital')"
      ]
    },
    {
      "cell_type": "code",
      "execution_count": null,
      "metadata": {
        "colab": {
          "base_uri": "https://localhost:8080/"
        },
        "id": "vRrGeawSQAWi",
        "outputId": "e2abec20-36be-4267-c7b5-030dc825beff"
      },
      "outputs": [
        {
          "data": {
            "text/plain": [
              "0.916923076923077"
            ]
          },
          "execution_count": 24,
          "metadata": {},
          "output_type": "execute_result"
        }
      ],
      "source": [
        "f1_score(y_test, y_knn_predicted, average=\"binary\", pos_label='digital')"
      ]
    },
    {
      "cell_type": "code",
      "execution_count": null,
      "metadata": {
        "colab": {
          "base_uri": "https://localhost:8080/"
        },
        "id": "5ZGF5PtiQ275",
        "outputId": "27c68483-0104-4726-faad-4aa7de0479a6"
      },
      "outputs": [
        {
          "data": {
            "text/plain": [
              "array([[126,  46],\n",
              "       [  8, 298]])"
            ]
          },
          "execution_count": 25,
          "metadata": {},
          "output_type": "execute_result"
        }
      ],
      "source": [
        "confusion_matrix(y_test, y_knn_predicted)"
      ]
    },
    {
      "cell_type": "markdown",
      "metadata": {
        "id": "kEPoVbmIOIZo"
      },
      "source": [
        "# SVM"
      ]
    },
    {
      "cell_type": "code",
      "execution_count": null,
      "metadata": {
        "colab": {
          "base_uri": "https://localhost:8080/",
          "height": 117
        },
        "id": "6lQUzWcqOK30",
        "outputId": "ea8149a8-8acb-4181-c51b-48775aca4e9f"
      },
      "outputs": [
        {
          "data": {
            "text/html": [
              "<style>#sk-container-id-2 {color: black;background-color: white;}#sk-container-id-2 pre{padding: 0;}#sk-container-id-2 div.sk-toggleable {background-color: white;}#sk-container-id-2 label.sk-toggleable__label {cursor: pointer;display: block;width: 100%;margin-bottom: 0;padding: 0.3em;box-sizing: border-box;text-align: center;}#sk-container-id-2 label.sk-toggleable__label-arrow:before {content: \"▸\";float: left;margin-right: 0.25em;color: #696969;}#sk-container-id-2 label.sk-toggleable__label-arrow:hover:before {color: black;}#sk-container-id-2 div.sk-estimator:hover label.sk-toggleable__label-arrow:before {color: black;}#sk-container-id-2 div.sk-toggleable__content {max-height: 0;max-width: 0;overflow: hidden;text-align: left;background-color: #f0f8ff;}#sk-container-id-2 div.sk-toggleable__content pre {margin: 0.2em;color: black;border-radius: 0.25em;background-color: #f0f8ff;}#sk-container-id-2 input.sk-toggleable__control:checked~div.sk-toggleable__content {max-height: 200px;max-width: 100%;overflow: auto;}#sk-container-id-2 input.sk-toggleable__control:checked~label.sk-toggleable__label-arrow:before {content: \"▾\";}#sk-container-id-2 div.sk-estimator input.sk-toggleable__control:checked~label.sk-toggleable__label {background-color: #d4ebff;}#sk-container-id-2 div.sk-label input.sk-toggleable__control:checked~label.sk-toggleable__label {background-color: #d4ebff;}#sk-container-id-2 input.sk-hidden--visually {border: 0;clip: rect(1px 1px 1px 1px);clip: rect(1px, 1px, 1px, 1px);height: 1px;margin: -1px;overflow: hidden;padding: 0;position: absolute;width: 1px;}#sk-container-id-2 div.sk-estimator {font-family: monospace;background-color: #f0f8ff;border: 1px dotted black;border-radius: 0.25em;box-sizing: border-box;margin-bottom: 0.5em;}#sk-container-id-2 div.sk-estimator:hover {background-color: #d4ebff;}#sk-container-id-2 div.sk-parallel-item::after {content: \"\";width: 100%;border-bottom: 1px solid gray;flex-grow: 1;}#sk-container-id-2 div.sk-label:hover label.sk-toggleable__label {background-color: #d4ebff;}#sk-container-id-2 div.sk-serial::before {content: \"\";position: absolute;border-left: 1px solid gray;box-sizing: border-box;top: 0;bottom: 0;left: 50%;z-index: 0;}#sk-container-id-2 div.sk-serial {display: flex;flex-direction: column;align-items: center;background-color: white;padding-right: 0.2em;padding-left: 0.2em;position: relative;}#sk-container-id-2 div.sk-item {position: relative;z-index: 1;}#sk-container-id-2 div.sk-parallel {display: flex;align-items: stretch;justify-content: center;background-color: white;position: relative;}#sk-container-id-2 div.sk-item::before, #sk-container-id-2 div.sk-parallel-item::before {content: \"\";position: absolute;border-left: 1px solid gray;box-sizing: border-box;top: 0;bottom: 0;left: 50%;z-index: -1;}#sk-container-id-2 div.sk-parallel-item {display: flex;flex-direction: column;z-index: 1;position: relative;background-color: white;}#sk-container-id-2 div.sk-parallel-item:first-child::after {align-self: flex-end;width: 50%;}#sk-container-id-2 div.sk-parallel-item:last-child::after {align-self: flex-start;width: 50%;}#sk-container-id-2 div.sk-parallel-item:only-child::after {width: 0;}#sk-container-id-2 div.sk-dashed-wrapped {border: 1px dashed gray;margin: 0 0.4em 0.5em 0.4em;box-sizing: border-box;padding-bottom: 0.4em;background-color: white;}#sk-container-id-2 div.sk-label label {font-family: monospace;font-weight: bold;display: inline-block;line-height: 1.2em;}#sk-container-id-2 div.sk-label-container {text-align: center;}#sk-container-id-2 div.sk-container {/* jupyter's `normalize.less` sets `[hidden] { display: none; }` but bootstrap.min.css set `[hidden] { display: none !important; }` so we also need the `!important` here to be able to override the default hidden behavior on the sphinx rendered scikit-learn.org. See: https://github.com/scikit-learn/scikit-learn/issues/21755 */display: inline-block !important;position: relative;}#sk-container-id-2 div.sk-text-repr-fallback {display: none;}</style><div id=\"sk-container-id-2\" class=\"sk-top-container\"><div class=\"sk-text-repr-fallback\"><pre>RandomizedSearchCV(cv=5, estimator=SVC(),\n",
              "                   param_distributions=[{&#x27;C&#x27;: &lt;scipy.stats._distn_infrastructure.rv_discrete_frozen object at 0x7c1af196a9e0&gt;,\n",
              "                                         &#x27;degree&#x27;: &lt;scipy.stats._distn_infrastructure.rv_discrete_frozen object at 0x7c1b08fdfc40&gt;,\n",
              "                                         &#x27;kernel&#x27;: [&#x27;linear&#x27;]},\n",
              "                                        {&#x27;C&#x27;: &lt;scipy.stats._distn_infrastructure.rv_discrete_frozen object at 0x7c1af1969cc0&gt;,\n",
              "                                         &#x27;degree&#x27;: &lt;scipy.stats._distn_infrastructure.rv_discrete_frozen object at 0x7c1b08fdfbb0&gt;,\n",
              "                                         &#x27;gamma&#x27;: [&#x27;scale&#x27;, &#x27;auto&#x27;],\n",
              "                                         &#x27;kernel&#x27;: [&#x27;rbf&#x27;]}])</pre><b>In a Jupyter environment, please rerun this cell to show the HTML representation or trust the notebook. <br />On GitHub, the HTML representation is unable to render, please try loading this page with nbviewer.org.</b></div><div class=\"sk-container\" hidden><div class=\"sk-item sk-dashed-wrapped\"><div class=\"sk-label-container\"><div class=\"sk-label sk-toggleable\"><input class=\"sk-toggleable__control sk-hidden--visually\" id=\"sk-estimator-id-4\" type=\"checkbox\" ><label for=\"sk-estimator-id-4\" class=\"sk-toggleable__label sk-toggleable__label-arrow\">RandomizedSearchCV</label><div class=\"sk-toggleable__content\"><pre>RandomizedSearchCV(cv=5, estimator=SVC(),\n",
              "                   param_distributions=[{&#x27;C&#x27;: &lt;scipy.stats._distn_infrastructure.rv_discrete_frozen object at 0x7c1af196a9e0&gt;,\n",
              "                                         &#x27;degree&#x27;: &lt;scipy.stats._distn_infrastructure.rv_discrete_frozen object at 0x7c1b08fdfc40&gt;,\n",
              "                                         &#x27;kernel&#x27;: [&#x27;linear&#x27;]},\n",
              "                                        {&#x27;C&#x27;: &lt;scipy.stats._distn_infrastructure.rv_discrete_frozen object at 0x7c1af1969cc0&gt;,\n",
              "                                         &#x27;degree&#x27;: &lt;scipy.stats._distn_infrastructure.rv_discrete_frozen object at 0x7c1b08fdfbb0&gt;,\n",
              "                                         &#x27;gamma&#x27;: [&#x27;scale&#x27;, &#x27;auto&#x27;],\n",
              "                                         &#x27;kernel&#x27;: [&#x27;rbf&#x27;]}])</pre></div></div></div><div class=\"sk-parallel\"><div class=\"sk-parallel-item\"><div class=\"sk-item\"><div class=\"sk-label-container\"><div class=\"sk-label sk-toggleable\"><input class=\"sk-toggleable__control sk-hidden--visually\" id=\"sk-estimator-id-5\" type=\"checkbox\" ><label for=\"sk-estimator-id-5\" class=\"sk-toggleable__label sk-toggleable__label-arrow\">estimator: SVC</label><div class=\"sk-toggleable__content\"><pre>SVC()</pre></div></div></div><div class=\"sk-serial\"><div class=\"sk-item\"><div class=\"sk-estimator sk-toggleable\"><input class=\"sk-toggleable__control sk-hidden--visually\" id=\"sk-estimator-id-6\" type=\"checkbox\" ><label for=\"sk-estimator-id-6\" class=\"sk-toggleable__label sk-toggleable__label-arrow\">SVC</label><div class=\"sk-toggleable__content\"><pre>SVC()</pre></div></div></div></div></div></div></div></div></div></div>"
            ],
            "text/plain": [
              "RandomizedSearchCV(cv=5, estimator=SVC(),\n",
              "                   param_distributions=[{'C': <scipy.stats._distn_infrastructure.rv_discrete_frozen object at 0x7c1af196a9e0>,\n",
              "                                         'degree': <scipy.stats._distn_infrastructure.rv_discrete_frozen object at 0x7c1b08fdfc40>,\n",
              "                                         'kernel': ['linear']},\n",
              "                                        {'C': <scipy.stats._distn_infrastructure.rv_discrete_frozen object at 0x7c1af1969cc0>,\n",
              "                                         'degree': <scipy.stats._distn_infrastructure.rv_discrete_frozen object at 0x7c1b08fdfbb0>,\n",
              "                                         'gamma': ['scale', 'auto'],\n",
              "                                         'kernel': ['rbf']}])"
            ]
          },
          "execution_count": 26,
          "metadata": {},
          "output_type": "execute_result"
        }
      ],
      "source": [
        "from sklearn.svm import SVC\n",
        "\n",
        "param_distribs = [\n",
        "        {'kernel': [\"linear\"], 'C': randint(low=1, high=50), 'degree': randint(low=1, high=5)},\n",
        "        {'kernel': [\"rbf\"], 'C': randint(low=1, high=50), 'gamma': [\"scale\", \"auto\"], 'degree': randint(low=1, high=5)},\n",
        "    ]\n",
        "\n",
        "svc = SVC()\n",
        "rnd_search_svc = RandomizedSearchCV(svc, param_distributions=param_distribs,\n",
        "                                n_iter=10, cv=5)\n",
        "rnd_search_svc.fit(x_train_dataset, y_train)"
      ]
    },
    {
      "cell_type": "code",
      "execution_count": null,
      "metadata": {
        "colab": {
          "base_uri": "https://localhost:8080/"
        },
        "id": "VLdTcbDThsXn",
        "outputId": "3678addf-6428-4f2a-a1f2-53bd9457bbca"
      },
      "outputs": [
        {
          "data": {
            "text/plain": [
              "{'C': 33, 'degree': 3, 'gamma': 'scale', 'kernel': 'rbf'}"
            ]
          },
          "execution_count": 27,
          "metadata": {},
          "output_type": "execute_result"
        }
      ],
      "source": [
        "rnd_search_svc.best_params_"
      ]
    },
    {
      "cell_type": "code",
      "execution_count": null,
      "metadata": {
        "id": "vdrK5GPWQlDo"
      },
      "outputs": [],
      "source": [
        "y_svc_predicted = rnd_search_svc.predict(x_test_dataset)"
      ]
    },
    {
      "cell_type": "code",
      "execution_count": null,
      "metadata": {
        "colab": {
          "base_uri": "https://localhost:8080/"
        },
        "id": "7_QLaTU5QovX",
        "outputId": "dc96d562-69ed-4e48-bdf8-fab4116844ab"
      },
      "outputs": [
        {
          "data": {
            "text/plain": [
              "0.9163179916317992"
            ]
          },
          "execution_count": 29,
          "metadata": {},
          "output_type": "execute_result"
        }
      ],
      "source": [
        "accuracy_score(y_test, y_svc_predicted)"
      ]
    },
    {
      "cell_type": "code",
      "execution_count": null,
      "metadata": {
        "colab": {
          "base_uri": "https://localhost:8080/"
        },
        "id": "cGFyuS6dha8M",
        "outputId": "d85bf39f-d83e-4d0c-e586-c2f66b8549eb"
      },
      "outputs": [
        {
          "data": {
            "text/plain": [
              "0.934640522875817"
            ]
          },
          "execution_count": 39,
          "metadata": {},
          "output_type": "execute_result"
        }
      ],
      "source": [
        "precision_score(y_test, y_svc_predicted, average=\"binary\", pos_label='digital')"
      ]
    },
    {
      "cell_type": "code",
      "execution_count": null,
      "metadata": {
        "colab": {
          "base_uri": "https://localhost:8080/"
        },
        "id": "RY6gm1dLQp3Z",
        "outputId": "c65a98ab-0225-4293-f9c2-b99c5a24ae3a"
      },
      "outputs": [
        {
          "data": {
            "text/plain": [
              "0.934640522875817"
            ]
          },
          "execution_count": 41,
          "metadata": {},
          "output_type": "execute_result"
        }
      ],
      "source": [
        "recall_score(y_test, y_svc_predicted, average=\"binary\", pos_label='digital')"
      ]
    },
    {
      "cell_type": "code",
      "execution_count": null,
      "metadata": {
        "colab": {
          "base_uri": "https://localhost:8080/"
        },
        "id": "pl0Vw1iHQrBR",
        "outputId": "88f2b876-385f-4b8c-b354-59cc5c484c58"
      },
      "outputs": [
        {
          "data": {
            "text/plain": [
              "0.934640522875817"
            ]
          },
          "execution_count": 42,
          "metadata": {},
          "output_type": "execute_result"
        }
      ],
      "source": [
        "f1_score(y_test, y_svc_predicted, average=\"binary\", pos_label='digital')"
      ]
    },
    {
      "cell_type": "code",
      "execution_count": null,
      "metadata": {
        "colab": {
          "base_uri": "https://localhost:8080/"
        },
        "id": "TtgmfwqbQ7r7",
        "outputId": "5a3778c8-a14a-4208-f29b-ebf0763c571e"
      },
      "outputs": [
        {
          "data": {
            "text/plain": [
              "array([[152,  20],\n",
              "       [ 20, 286]])"
            ]
          },
          "execution_count": 33,
          "metadata": {},
          "output_type": "execute_result"
        }
      ],
      "source": [
        "confusion_matrix(y_test, y_svc_predicted)"
      ]
    },
    {
      "cell_type": "markdown",
      "metadata": {
        "id": "Go3qCMPxcNat"
      },
      "source": [
        "# Ada Boost Classifier"
      ]
    },
    {
      "cell_type": "code",
      "execution_count": null,
      "metadata": {
        "colab": {
          "base_uri": "https://localhost:8080/",
          "height": 117
        },
        "id": "jQ9JfYnEehz7",
        "outputId": "fd1ffa58-e4c0-45a3-9b07-2f5946fcc863"
      },
      "outputs": [
        {
          "data": {
            "text/html": [
              "<style>#sk-container-id-4 {color: black;background-color: white;}#sk-container-id-4 pre{padding: 0;}#sk-container-id-4 div.sk-toggleable {background-color: white;}#sk-container-id-4 label.sk-toggleable__label {cursor: pointer;display: block;width: 100%;margin-bottom: 0;padding: 0.3em;box-sizing: border-box;text-align: center;}#sk-container-id-4 label.sk-toggleable__label-arrow:before {content: \"▸\";float: left;margin-right: 0.25em;color: #696969;}#sk-container-id-4 label.sk-toggleable__label-arrow:hover:before {color: black;}#sk-container-id-4 div.sk-estimator:hover label.sk-toggleable__label-arrow:before {color: black;}#sk-container-id-4 div.sk-toggleable__content {max-height: 0;max-width: 0;overflow: hidden;text-align: left;background-color: #f0f8ff;}#sk-container-id-4 div.sk-toggleable__content pre {margin: 0.2em;color: black;border-radius: 0.25em;background-color: #f0f8ff;}#sk-container-id-4 input.sk-toggleable__control:checked~div.sk-toggleable__content {max-height: 200px;max-width: 100%;overflow: auto;}#sk-container-id-4 input.sk-toggleable__control:checked~label.sk-toggleable__label-arrow:before {content: \"▾\";}#sk-container-id-4 div.sk-estimator input.sk-toggleable__control:checked~label.sk-toggleable__label {background-color: #d4ebff;}#sk-container-id-4 div.sk-label input.sk-toggleable__control:checked~label.sk-toggleable__label {background-color: #d4ebff;}#sk-container-id-4 input.sk-hidden--visually {border: 0;clip: rect(1px 1px 1px 1px);clip: rect(1px, 1px, 1px, 1px);height: 1px;margin: -1px;overflow: hidden;padding: 0;position: absolute;width: 1px;}#sk-container-id-4 div.sk-estimator {font-family: monospace;background-color: #f0f8ff;border: 1px dotted black;border-radius: 0.25em;box-sizing: border-box;margin-bottom: 0.5em;}#sk-container-id-4 div.sk-estimator:hover {background-color: #d4ebff;}#sk-container-id-4 div.sk-parallel-item::after {content: \"\";width: 100%;border-bottom: 1px solid gray;flex-grow: 1;}#sk-container-id-4 div.sk-label:hover label.sk-toggleable__label {background-color: #d4ebff;}#sk-container-id-4 div.sk-serial::before {content: \"\";position: absolute;border-left: 1px solid gray;box-sizing: border-box;top: 0;bottom: 0;left: 50%;z-index: 0;}#sk-container-id-4 div.sk-serial {display: flex;flex-direction: column;align-items: center;background-color: white;padding-right: 0.2em;padding-left: 0.2em;position: relative;}#sk-container-id-4 div.sk-item {position: relative;z-index: 1;}#sk-container-id-4 div.sk-parallel {display: flex;align-items: stretch;justify-content: center;background-color: white;position: relative;}#sk-container-id-4 div.sk-item::before, #sk-container-id-4 div.sk-parallel-item::before {content: \"\";position: absolute;border-left: 1px solid gray;box-sizing: border-box;top: 0;bottom: 0;left: 50%;z-index: -1;}#sk-container-id-4 div.sk-parallel-item {display: flex;flex-direction: column;z-index: 1;position: relative;background-color: white;}#sk-container-id-4 div.sk-parallel-item:first-child::after {align-self: flex-end;width: 50%;}#sk-container-id-4 div.sk-parallel-item:last-child::after {align-self: flex-start;width: 50%;}#sk-container-id-4 div.sk-parallel-item:only-child::after {width: 0;}#sk-container-id-4 div.sk-dashed-wrapped {border: 1px dashed gray;margin: 0 0.4em 0.5em 0.4em;box-sizing: border-box;padding-bottom: 0.4em;background-color: white;}#sk-container-id-4 div.sk-label label {font-family: monospace;font-weight: bold;display: inline-block;line-height: 1.2em;}#sk-container-id-4 div.sk-label-container {text-align: center;}#sk-container-id-4 div.sk-container {/* jupyter's `normalize.less` sets `[hidden] { display: none; }` but bootstrap.min.css set `[hidden] { display: none !important; }` so we also need the `!important` here to be able to override the default hidden behavior on the sphinx rendered scikit-learn.org. See: https://github.com/scikit-learn/scikit-learn/issues/21755 */display: inline-block !important;position: relative;}#sk-container-id-4 div.sk-text-repr-fallback {display: none;}</style><div id=\"sk-container-id-4\" class=\"sk-top-container\"><div class=\"sk-text-repr-fallback\"><pre>RandomizedSearchCV(cv=5, estimator=AdaBoostClassifier(),\n",
              "                   param_distributions=[{&#x27;algorithm&#x27;: [&#x27;SAMME&#x27;, &#x27;SAMME.R&#x27;],\n",
              "                                         &#x27;learning_rate&#x27;: &lt;scipy.stats._distn_infrastructure.rv_continuous_frozen object at 0x7a027395f670&gt;,\n",
              "                                         &#x27;n_estimators&#x27;: &lt;scipy.stats._distn_infrastructure.rv_discrete_frozen object at 0x7a027395cf70&gt;,\n",
              "                                         &#x27;random_state&#x27;: &lt;scipy.stats._distn_infrastructure.rv_discrete_frozen object at 0x7a0273562a70&gt;}])</pre><b>In a Jupyter environment, please rerun this cell to show the HTML representation or trust the notebook. <br />On GitHub, the HTML representation is unable to render, please try loading this page with nbviewer.org.</b></div><div class=\"sk-container\" hidden><div class=\"sk-item sk-dashed-wrapped\"><div class=\"sk-label-container\"><div class=\"sk-label sk-toggleable\"><input class=\"sk-toggleable__control sk-hidden--visually\" id=\"sk-estimator-id-10\" type=\"checkbox\" ><label for=\"sk-estimator-id-10\" class=\"sk-toggleable__label sk-toggleable__label-arrow\">RandomizedSearchCV</label><div class=\"sk-toggleable__content\"><pre>RandomizedSearchCV(cv=5, estimator=AdaBoostClassifier(),\n",
              "                   param_distributions=[{&#x27;algorithm&#x27;: [&#x27;SAMME&#x27;, &#x27;SAMME.R&#x27;],\n",
              "                                         &#x27;learning_rate&#x27;: &lt;scipy.stats._distn_infrastructure.rv_continuous_frozen object at 0x7a027395f670&gt;,\n",
              "                                         &#x27;n_estimators&#x27;: &lt;scipy.stats._distn_infrastructure.rv_discrete_frozen object at 0x7a027395cf70&gt;,\n",
              "                                         &#x27;random_state&#x27;: &lt;scipy.stats._distn_infrastructure.rv_discrete_frozen object at 0x7a0273562a70&gt;}])</pre></div></div></div><div class=\"sk-parallel\"><div class=\"sk-parallel-item\"><div class=\"sk-item\"><div class=\"sk-label-container\"><div class=\"sk-label sk-toggleable\"><input class=\"sk-toggleable__control sk-hidden--visually\" id=\"sk-estimator-id-11\" type=\"checkbox\" ><label for=\"sk-estimator-id-11\" class=\"sk-toggleable__label sk-toggleable__label-arrow\">estimator: AdaBoostClassifier</label><div class=\"sk-toggleable__content\"><pre>AdaBoostClassifier()</pre></div></div></div><div class=\"sk-serial\"><div class=\"sk-item\"><div class=\"sk-estimator sk-toggleable\"><input class=\"sk-toggleable__control sk-hidden--visually\" id=\"sk-estimator-id-12\" type=\"checkbox\" ><label for=\"sk-estimator-id-12\" class=\"sk-toggleable__label sk-toggleable__label-arrow\">AdaBoostClassifier</label><div class=\"sk-toggleable__content\"><pre>AdaBoostClassifier()</pre></div></div></div></div></div></div></div></div></div></div>"
            ],
            "text/plain": [
              "RandomizedSearchCV(cv=5, estimator=AdaBoostClassifier(),\n",
              "                   param_distributions=[{'algorithm': ['SAMME', 'SAMME.R'],\n",
              "                                         'learning_rate': <scipy.stats._distn_infrastructure.rv_continuous_frozen object at 0x7a027395f670>,\n",
              "                                         'n_estimators': <scipy.stats._distn_infrastructure.rv_discrete_frozen object at 0x7a027395cf70>,\n",
              "                                         'random_state': <scipy.stats._distn_infrastructure.rv_discrete_frozen object at 0x7a0273562a70>}])"
            ]
          },
          "execution_count": 94,
          "metadata": {},
          "output_type": "execute_result"
        }
      ],
      "source": [
        "from sklearn.ensemble import AdaBoostClassifier\n",
        "from scipy.stats import uniform\n",
        "param_distribs_abc = [\n",
        "        {'n_estimators': randint(low=1, high=100),\n",
        "         'learning_rate': uniform(0,1),\n",
        "         \"algorithm\":[\"SAMME\", \"SAMME.R\"],\n",
        "         \"random_state\": randint(low=1, high=100)},\n",
        "    ]\n",
        "\n",
        "abc = AdaBoostClassifier()\n",
        "rnd_search_abc = RandomizedSearchCV(abc, param_distributions=param_distribs_abc,\n",
        "                                n_iter=10, cv=5)\n",
        "rnd_search_abc.fit(x_train_dataset, y_train)"
      ]
    },
    {
      "cell_type": "code",
      "execution_count": null,
      "metadata": {
        "colab": {
          "base_uri": "https://localhost:8080/"
        },
        "id": "k9Tlge2Um_6N",
        "outputId": "404ca399-1f5b-4378-8c3e-11a658e2ef4a"
      },
      "outputs": [
        {
          "data": {
            "text/plain": [
              "{'algorithm': 'SAMME.R',\n",
              " 'learning_rate': 0.23775994434754566,\n",
              " 'n_estimators': 84,\n",
              " 'random_state': 5}"
            ]
          },
          "execution_count": 95,
          "metadata": {},
          "output_type": "execute_result"
        }
      ],
      "source": [
        "rnd_search_abc.best_params_"
      ]
    },
    {
      "cell_type": "code",
      "execution_count": null,
      "metadata": {
        "id": "cRcKQV4CnBqc"
      },
      "outputs": [],
      "source": [
        "y_abc_predicted = rnd_search_abc.predict(x_test_dataset)"
      ]
    },
    {
      "cell_type": "code",
      "execution_count": null,
      "metadata": {
        "colab": {
          "base_uri": "https://localhost:8080/"
        },
        "id": "GBNI4S4cmi4x",
        "outputId": "8138a138-9ce8-4d99-b673-fd1afab10cbc"
      },
      "outputs": [
        {
          "data": {
            "text/plain": [
              "0.8451882845188284"
            ]
          },
          "execution_count": 97,
          "metadata": {},
          "output_type": "execute_result"
        }
      ],
      "source": [
        "accuracy_score(y_test, y_abc_predicted)"
      ]
    },
    {
      "cell_type": "code",
      "execution_count": null,
      "metadata": {
        "colab": {
          "base_uri": "https://localhost:8080/"
        },
        "id": "pthLtjSPm3i2",
        "outputId": "4700a1e9-b749-4e27-a7a6-c89f96e94b90"
      },
      "outputs": [
        {
          "data": {
            "text/plain": [
              "0.8493975903614458"
            ]
          },
          "execution_count": 98,
          "metadata": {},
          "output_type": "execute_result"
        }
      ],
      "source": [
        "precision_score(y_test, y_abc_predicted, average=\"binary\", pos_label='digital')"
      ]
    },
    {
      "cell_type": "code",
      "execution_count": null,
      "metadata": {
        "colab": {
          "base_uri": "https://localhost:8080/"
        },
        "id": "ynGESGAqm5Ah",
        "outputId": "2c672b84-5edc-4178-9a62-249655575e26"
      },
      "outputs": [
        {
          "data": {
            "text/plain": [
              "0.9215686274509803"
            ]
          },
          "execution_count": 99,
          "metadata": {},
          "output_type": "execute_result"
        }
      ],
      "source": [
        "recall_score(y_test, y_abc_predicted, average=\"binary\", pos_label='digital')"
      ]
    },
    {
      "cell_type": "code",
      "execution_count": null,
      "metadata": {
        "colab": {
          "base_uri": "https://localhost:8080/"
        },
        "id": "n_OCMJYdm6Xn",
        "outputId": "ebdb9a35-e3ad-4fdb-8f93-ee60cfee91ac"
      },
      "outputs": [
        {
          "data": {
            "text/plain": [
              "0.8840125391849529"
            ]
          },
          "execution_count": 100,
          "metadata": {},
          "output_type": "execute_result"
        }
      ],
      "source": [
        "f1_score(y_test, y_abc_predicted, average=\"binary\", pos_label='digital')"
      ]
    },
    {
      "cell_type": "code",
      "execution_count": null,
      "metadata": {
        "colab": {
          "base_uri": "https://localhost:8080/"
        },
        "id": "Kox-XRLxm7mz",
        "outputId": "40ba1603-ab72-4dff-be75-c870de392579"
      },
      "outputs": [
        {
          "data": {
            "text/plain": [
              "array([[122,  50],\n",
              "       [ 24, 282]])"
            ]
          },
          "execution_count": 101,
          "metadata": {},
          "output_type": "execute_result"
        }
      ],
      "source": [
        "confusion_matrix(y_test, y_abc_predicted)"
      ]
    },
    {
      "cell_type": "markdown",
      "metadata": {
        "id": "gVWSWDESwrNi"
      },
      "source": [
        "# Data Preparation For Reading"
      ]
    },
    {
      "cell_type": "code",
      "execution_count": null,
      "metadata": {
        "colab": {
          "base_uri": "https://localhost:8080/"
        },
        "id": "iYDdO3TTwz3-",
        "outputId": "80a3517b-a9f4-4ef2-9fab-838155472fd2"
      },
      "outputs": [
        {
          "output_type": "stream",
          "name": "stdout",
          "text": [
            "Mounted at /content/drive\n"
          ]
        }
      ],
      "source": [
        "import sys\n",
        "assert sys.version_info >= (3, 5)\n",
        "\n",
        "import sklearn\n",
        "assert sklearn.__version__ >= \"0.20\"\n",
        "\n",
        "import numpy as np\n",
        "import os\n",
        "from google.colab import drive\n",
        "import pandas as pd\n",
        "\n",
        "\n",
        "from PIL import ImageFile\n",
        "ImageFile.LOAD_TRUNCATED_IMAGES = True\n",
        "\n",
        "drive.mount('/content/drive', force_remount=True)\n",
        "\n",
        "input_dir = \"/content/drive/My Drive/Quota/ML/trodo-v01/trodo-v01/images\"\n",
        "input_dir_anno = \"/content/drive/My Drive/Quota/ML/trodo-v01/trodo-v01/pascal voc 1.1/Annotations\""
      ]
    },
    {
      "cell_type": "code",
      "execution_count": null,
      "metadata": {
        "id": "4FrKmVpCxZxe"
      },
      "outputs": [],
      "source": [
        "import xml.etree.ElementTree as ET\n",
        "anno_list = []\n",
        "odometer_list = []\n",
        "for file in os.listdir(input_dir_anno):\n",
        "      xml_path = os.path.join(input_dir_anno, file)\n",
        "      tree = ET.parse(xml_path)\n",
        "      root = tree.getroot()\n",
        "      for anno_elem in root.findall('.//object'):\n",
        "          anno_dict = {}\n",
        "          if(anno_elem.find('name').text != 'X' and anno_elem.find('name').text != ','):\n",
        "            anno_dict['filename'] = file\n",
        "            anno_dict['name'] = anno_elem.find('name').text\n",
        "            anno_dict['xmin'] = anno_elem.find('bndbox').find('xmin').text\n",
        "            anno_dict['ymin'] = anno_elem.find('bndbox').find('ymin').text\n",
        "            anno_dict['xmax'] = anno_elem.find('bndbox').find('xmax').text\n",
        "            anno_dict['ymax'] = anno_elem.find('bndbox').find('ymax').text\n",
        "            if(anno_elem.find('name').text == 'odometer'):\n",
        "              odometer_list.append(anno_dict)\n",
        "            else:\n",
        "              anno_list.append(anno_dict)"
      ]
    },
    {
      "cell_type": "code",
      "execution_count": null,
      "metadata": {
        "colab": {
          "base_uri": "https://localhost:8080/",
          "height": 423
        },
        "id": "terkuRmr2QqU",
        "outputId": "41684e3c-75f9-4c6e-a883-80f489e6ca77"
      },
      "outputs": [
        {
          "output_type": "execute_result",
          "data": {
            "text/plain": [
              "                                     filename name    xmin    ymin    xmax  \\\n",
              "0      00000124-PHOTO-2020-11-22-10-58-08.xml    0  313.78  967.64  343.32   \n",
              "1      00000124-PHOTO-2020-11-22-10-58-08.xml    1  316.11  945.55  345.18   \n",
              "2      00000124-PHOTO-2020-11-22-10-58-08.xml    8  313.78  909.97  344.01   \n",
              "3      00000124-PHOTO-2020-11-22-10-58-08.xml    4  315.41  824.85  336.57   \n",
              "4      00000124-PHOTO-2020-11-22-10-58-08.xml    9  317.27  880.67  346.11   \n",
              "...                                       ...  ...     ...     ...     ...   \n",
              "21224  00001508-PHOTO-2020-12-15-22-19-58.xml    0  223.56  661.23  252.54   \n",
              "21225  00001508-PHOTO-2020-12-15-22-19-58.xml    7   230.9  608.78  255.48   \n",
              "21226  00001508-PHOTO-2020-12-15-22-19-58.xml    7  258.78  608.41  282.25   \n",
              "21227  00001508-PHOTO-2020-12-15-22-19-58.xml    5   297.0   658.3  326.71   \n",
              "21228  00001508-PHOTO-2020-12-15-22-19-58.xml    5  266.19  658.81  293.33   \n",
              "\n",
              "         ymax  \n",
              "0      989.52  \n",
              "1      953.48  \n",
              "2      931.85  \n",
              "3      841.62  \n",
              "4      903.01  \n",
              "...       ...  \n",
              "21224  708.55  \n",
              "21225  650.23  \n",
              "21226  650.23  \n",
              "21227  710.38  \n",
              "21228  709.06  \n",
              "\n",
              "[21229 rows x 6 columns]"
            ],
            "text/html": [
              "\n",
              "  <div id=\"df-3a20b8aa-d3dc-4a6c-b585-41b28df31af1\" class=\"colab-df-container\">\n",
              "    <div>\n",
              "<style scoped>\n",
              "    .dataframe tbody tr th:only-of-type {\n",
              "        vertical-align: middle;\n",
              "    }\n",
              "\n",
              "    .dataframe tbody tr th {\n",
              "        vertical-align: top;\n",
              "    }\n",
              "\n",
              "    .dataframe thead th {\n",
              "        text-align: right;\n",
              "    }\n",
              "</style>\n",
              "<table border=\"1\" class=\"dataframe\">\n",
              "  <thead>\n",
              "    <tr style=\"text-align: right;\">\n",
              "      <th></th>\n",
              "      <th>filename</th>\n",
              "      <th>name</th>\n",
              "      <th>xmin</th>\n",
              "      <th>ymin</th>\n",
              "      <th>xmax</th>\n",
              "      <th>ymax</th>\n",
              "    </tr>\n",
              "  </thead>\n",
              "  <tbody>\n",
              "    <tr>\n",
              "      <th>0</th>\n",
              "      <td>00000124-PHOTO-2020-11-22-10-58-08.xml</td>\n",
              "      <td>0</td>\n",
              "      <td>313.78</td>\n",
              "      <td>967.64</td>\n",
              "      <td>343.32</td>\n",
              "      <td>989.52</td>\n",
              "    </tr>\n",
              "    <tr>\n",
              "      <th>1</th>\n",
              "      <td>00000124-PHOTO-2020-11-22-10-58-08.xml</td>\n",
              "      <td>1</td>\n",
              "      <td>316.11</td>\n",
              "      <td>945.55</td>\n",
              "      <td>345.18</td>\n",
              "      <td>953.48</td>\n",
              "    </tr>\n",
              "    <tr>\n",
              "      <th>2</th>\n",
              "      <td>00000124-PHOTO-2020-11-22-10-58-08.xml</td>\n",
              "      <td>8</td>\n",
              "      <td>313.78</td>\n",
              "      <td>909.97</td>\n",
              "      <td>344.01</td>\n",
              "      <td>931.85</td>\n",
              "    </tr>\n",
              "    <tr>\n",
              "      <th>3</th>\n",
              "      <td>00000124-PHOTO-2020-11-22-10-58-08.xml</td>\n",
              "      <td>4</td>\n",
              "      <td>315.41</td>\n",
              "      <td>824.85</td>\n",
              "      <td>336.57</td>\n",
              "      <td>841.62</td>\n",
              "    </tr>\n",
              "    <tr>\n",
              "      <th>4</th>\n",
              "      <td>00000124-PHOTO-2020-11-22-10-58-08.xml</td>\n",
              "      <td>9</td>\n",
              "      <td>317.27</td>\n",
              "      <td>880.67</td>\n",
              "      <td>346.11</td>\n",
              "      <td>903.01</td>\n",
              "    </tr>\n",
              "    <tr>\n",
              "      <th>...</th>\n",
              "      <td>...</td>\n",
              "      <td>...</td>\n",
              "      <td>...</td>\n",
              "      <td>...</td>\n",
              "      <td>...</td>\n",
              "      <td>...</td>\n",
              "    </tr>\n",
              "    <tr>\n",
              "      <th>21224</th>\n",
              "      <td>00001508-PHOTO-2020-12-15-22-19-58.xml</td>\n",
              "      <td>0</td>\n",
              "      <td>223.56</td>\n",
              "      <td>661.23</td>\n",
              "      <td>252.54</td>\n",
              "      <td>708.55</td>\n",
              "    </tr>\n",
              "    <tr>\n",
              "      <th>21225</th>\n",
              "      <td>00001508-PHOTO-2020-12-15-22-19-58.xml</td>\n",
              "      <td>7</td>\n",
              "      <td>230.9</td>\n",
              "      <td>608.78</td>\n",
              "      <td>255.48</td>\n",
              "      <td>650.23</td>\n",
              "    </tr>\n",
              "    <tr>\n",
              "      <th>21226</th>\n",
              "      <td>00001508-PHOTO-2020-12-15-22-19-58.xml</td>\n",
              "      <td>7</td>\n",
              "      <td>258.78</td>\n",
              "      <td>608.41</td>\n",
              "      <td>282.25</td>\n",
              "      <td>650.23</td>\n",
              "    </tr>\n",
              "    <tr>\n",
              "      <th>21227</th>\n",
              "      <td>00001508-PHOTO-2020-12-15-22-19-58.xml</td>\n",
              "      <td>5</td>\n",
              "      <td>297.0</td>\n",
              "      <td>658.3</td>\n",
              "      <td>326.71</td>\n",
              "      <td>710.38</td>\n",
              "    </tr>\n",
              "    <tr>\n",
              "      <th>21228</th>\n",
              "      <td>00001508-PHOTO-2020-12-15-22-19-58.xml</td>\n",
              "      <td>5</td>\n",
              "      <td>266.19</td>\n",
              "      <td>658.81</td>\n",
              "      <td>293.33</td>\n",
              "      <td>709.06</td>\n",
              "    </tr>\n",
              "  </tbody>\n",
              "</table>\n",
              "<p>21229 rows × 6 columns</p>\n",
              "</div>\n",
              "    <div class=\"colab-df-buttons\">\n",
              "\n",
              "  <div class=\"colab-df-container\">\n",
              "    <button class=\"colab-df-convert\" onclick=\"convertToInteractive('df-3a20b8aa-d3dc-4a6c-b585-41b28df31af1')\"\n",
              "            title=\"Convert this dataframe to an interactive table.\"\n",
              "            style=\"display:none;\">\n",
              "\n",
              "  <svg xmlns=\"http://www.w3.org/2000/svg\" height=\"24px\" viewBox=\"0 -960 960 960\">\n",
              "    <path d=\"M120-120v-720h720v720H120Zm60-500h600v-160H180v160Zm220 220h160v-160H400v160Zm0 220h160v-160H400v160ZM180-400h160v-160H180v160Zm440 0h160v-160H620v160ZM180-180h160v-160H180v160Zm440 0h160v-160H620v160Z\"/>\n",
              "  </svg>\n",
              "    </button>\n",
              "\n",
              "  <style>\n",
              "    .colab-df-container {\n",
              "      display:flex;\n",
              "      gap: 12px;\n",
              "    }\n",
              "\n",
              "    .colab-df-convert {\n",
              "      background-color: #E8F0FE;\n",
              "      border: none;\n",
              "      border-radius: 50%;\n",
              "      cursor: pointer;\n",
              "      display: none;\n",
              "      fill: #1967D2;\n",
              "      height: 32px;\n",
              "      padding: 0 0 0 0;\n",
              "      width: 32px;\n",
              "    }\n",
              "\n",
              "    .colab-df-convert:hover {\n",
              "      background-color: #E2EBFA;\n",
              "      box-shadow: 0px 1px 2px rgba(60, 64, 67, 0.3), 0px 1px 3px 1px rgba(60, 64, 67, 0.15);\n",
              "      fill: #174EA6;\n",
              "    }\n",
              "\n",
              "    .colab-df-buttons div {\n",
              "      margin-bottom: 4px;\n",
              "    }\n",
              "\n",
              "    [theme=dark] .colab-df-convert {\n",
              "      background-color: #3B4455;\n",
              "      fill: #D2E3FC;\n",
              "    }\n",
              "\n",
              "    [theme=dark] .colab-df-convert:hover {\n",
              "      background-color: #434B5C;\n",
              "      box-shadow: 0px 1px 3px 1px rgba(0, 0, 0, 0.15);\n",
              "      filter: drop-shadow(0px 1px 2px rgba(0, 0, 0, 0.3));\n",
              "      fill: #FFFFFF;\n",
              "    }\n",
              "  </style>\n",
              "\n",
              "    <script>\n",
              "      const buttonEl =\n",
              "        document.querySelector('#df-3a20b8aa-d3dc-4a6c-b585-41b28df31af1 button.colab-df-convert');\n",
              "      buttonEl.style.display =\n",
              "        google.colab.kernel.accessAllowed ? 'block' : 'none';\n",
              "\n",
              "      async function convertToInteractive(key) {\n",
              "        const element = document.querySelector('#df-3a20b8aa-d3dc-4a6c-b585-41b28df31af1');\n",
              "        const dataTable =\n",
              "          await google.colab.kernel.invokeFunction('convertToInteractive',\n",
              "                                                    [key], {});\n",
              "        if (!dataTable) return;\n",
              "\n",
              "        const docLinkHtml = 'Like what you see? Visit the ' +\n",
              "          '<a target=\"_blank\" href=https://colab.research.google.com/notebooks/data_table.ipynb>data table notebook</a>'\n",
              "          + ' to learn more about interactive tables.';\n",
              "        element.innerHTML = '';\n",
              "        dataTable['output_type'] = 'display_data';\n",
              "        await google.colab.output.renderOutput(dataTable, element);\n",
              "        const docLink = document.createElement('div');\n",
              "        docLink.innerHTML = docLinkHtml;\n",
              "        element.appendChild(docLink);\n",
              "      }\n",
              "    </script>\n",
              "  </div>\n",
              "\n",
              "\n",
              "<div id=\"df-737accd6-bf23-4ab1-a806-fbe03ed3fa65\">\n",
              "  <button class=\"colab-df-quickchart\" onclick=\"quickchart('df-737accd6-bf23-4ab1-a806-fbe03ed3fa65')\"\n",
              "            title=\"Suggest charts\"\n",
              "            style=\"display:none;\">\n",
              "\n",
              "<svg xmlns=\"http://www.w3.org/2000/svg\" height=\"24px\"viewBox=\"0 0 24 24\"\n",
              "     width=\"24px\">\n",
              "    <g>\n",
              "        <path d=\"M19 3H5c-1.1 0-2 .9-2 2v14c0 1.1.9 2 2 2h14c1.1 0 2-.9 2-2V5c0-1.1-.9-2-2-2zM9 17H7v-7h2v7zm4 0h-2V7h2v10zm4 0h-2v-4h2v4z\"/>\n",
              "    </g>\n",
              "</svg>\n",
              "  </button>\n",
              "\n",
              "<style>\n",
              "  .colab-df-quickchart {\n",
              "      --bg-color: #E8F0FE;\n",
              "      --fill-color: #1967D2;\n",
              "      --hover-bg-color: #E2EBFA;\n",
              "      --hover-fill-color: #174EA6;\n",
              "      --disabled-fill-color: #AAA;\n",
              "      --disabled-bg-color: #DDD;\n",
              "  }\n",
              "\n",
              "  [theme=dark] .colab-df-quickchart {\n",
              "      --bg-color: #3B4455;\n",
              "      --fill-color: #D2E3FC;\n",
              "      --hover-bg-color: #434B5C;\n",
              "      --hover-fill-color: #FFFFFF;\n",
              "      --disabled-bg-color: #3B4455;\n",
              "      --disabled-fill-color: #666;\n",
              "  }\n",
              "\n",
              "  .colab-df-quickchart {\n",
              "    background-color: var(--bg-color);\n",
              "    border: none;\n",
              "    border-radius: 50%;\n",
              "    cursor: pointer;\n",
              "    display: none;\n",
              "    fill: var(--fill-color);\n",
              "    height: 32px;\n",
              "    padding: 0;\n",
              "    width: 32px;\n",
              "  }\n",
              "\n",
              "  .colab-df-quickchart:hover {\n",
              "    background-color: var(--hover-bg-color);\n",
              "    box-shadow: 0 1px 2px rgba(60, 64, 67, 0.3), 0 1px 3px 1px rgba(60, 64, 67, 0.15);\n",
              "    fill: var(--button-hover-fill-color);\n",
              "  }\n",
              "\n",
              "  .colab-df-quickchart-complete:disabled,\n",
              "  .colab-df-quickchart-complete:disabled:hover {\n",
              "    background-color: var(--disabled-bg-color);\n",
              "    fill: var(--disabled-fill-color);\n",
              "    box-shadow: none;\n",
              "  }\n",
              "\n",
              "  .colab-df-spinner {\n",
              "    border: 2px solid var(--fill-color);\n",
              "    border-color: transparent;\n",
              "    border-bottom-color: var(--fill-color);\n",
              "    animation:\n",
              "      spin 1s steps(1) infinite;\n",
              "  }\n",
              "\n",
              "  @keyframes spin {\n",
              "    0% {\n",
              "      border-color: transparent;\n",
              "      border-bottom-color: var(--fill-color);\n",
              "      border-left-color: var(--fill-color);\n",
              "    }\n",
              "    20% {\n",
              "      border-color: transparent;\n",
              "      border-left-color: var(--fill-color);\n",
              "      border-top-color: var(--fill-color);\n",
              "    }\n",
              "    30% {\n",
              "      border-color: transparent;\n",
              "      border-left-color: var(--fill-color);\n",
              "      border-top-color: var(--fill-color);\n",
              "      border-right-color: var(--fill-color);\n",
              "    }\n",
              "    40% {\n",
              "      border-color: transparent;\n",
              "      border-right-color: var(--fill-color);\n",
              "      border-top-color: var(--fill-color);\n",
              "    }\n",
              "    60% {\n",
              "      border-color: transparent;\n",
              "      border-right-color: var(--fill-color);\n",
              "    }\n",
              "    80% {\n",
              "      border-color: transparent;\n",
              "      border-right-color: var(--fill-color);\n",
              "      border-bottom-color: var(--fill-color);\n",
              "    }\n",
              "    90% {\n",
              "      border-color: transparent;\n",
              "      border-bottom-color: var(--fill-color);\n",
              "    }\n",
              "  }\n",
              "</style>\n",
              "\n",
              "  <script>\n",
              "    async function quickchart(key) {\n",
              "      const quickchartButtonEl =\n",
              "        document.querySelector('#' + key + ' button');\n",
              "      quickchartButtonEl.disabled = true;  // To prevent multiple clicks.\n",
              "      quickchartButtonEl.classList.add('colab-df-spinner');\n",
              "      try {\n",
              "        const charts = await google.colab.kernel.invokeFunction(\n",
              "            'suggestCharts', [key], {});\n",
              "      } catch (error) {\n",
              "        console.error('Error during call to suggestCharts:', error);\n",
              "      }\n",
              "      quickchartButtonEl.classList.remove('colab-df-spinner');\n",
              "      quickchartButtonEl.classList.add('colab-df-quickchart-complete');\n",
              "    }\n",
              "    (() => {\n",
              "      let quickchartButtonEl =\n",
              "        document.querySelector('#df-737accd6-bf23-4ab1-a806-fbe03ed3fa65 button');\n",
              "      quickchartButtonEl.style.display =\n",
              "        google.colab.kernel.accessAllowed ? 'block' : 'none';\n",
              "    })();\n",
              "  </script>\n",
              "</div>\n",
              "\n",
              "  <div id=\"id_d2a41ec6-5e2f-4d4e-a139-28a1f2fcfa8f\">\n",
              "    <style>\n",
              "      .colab-df-generate {\n",
              "        background-color: #E8F0FE;\n",
              "        border: none;\n",
              "        border-radius: 50%;\n",
              "        cursor: pointer;\n",
              "        display: none;\n",
              "        fill: #1967D2;\n",
              "        height: 32px;\n",
              "        padding: 0 0 0 0;\n",
              "        width: 32px;\n",
              "      }\n",
              "\n",
              "      .colab-df-generate:hover {\n",
              "        background-color: #E2EBFA;\n",
              "        box-shadow: 0px 1px 2px rgba(60, 64, 67, 0.3), 0px 1px 3px 1px rgba(60, 64, 67, 0.15);\n",
              "        fill: #174EA6;\n",
              "      }\n",
              "\n",
              "      [theme=dark] .colab-df-generate {\n",
              "        background-color: #3B4455;\n",
              "        fill: #D2E3FC;\n",
              "      }\n",
              "\n",
              "      [theme=dark] .colab-df-generate:hover {\n",
              "        background-color: #434B5C;\n",
              "        box-shadow: 0px 1px 3px 1px rgba(0, 0, 0, 0.15);\n",
              "        filter: drop-shadow(0px 1px 2px rgba(0, 0, 0, 0.3));\n",
              "        fill: #FFFFFF;\n",
              "      }\n",
              "    </style>\n",
              "    <button class=\"colab-df-generate\" onclick=\"generateWithVariable('df')\"\n",
              "            title=\"Generate code using this dataframe.\"\n",
              "            style=\"display:none;\">\n",
              "\n",
              "  <svg xmlns=\"http://www.w3.org/2000/svg\" height=\"24px\"viewBox=\"0 0 24 24\"\n",
              "       width=\"24px\">\n",
              "    <path d=\"M7,19H8.4L18.45,9,17,7.55,7,17.6ZM5,21V16.75L18.45,3.32a2,2,0,0,1,2.83,0l1.4,1.43a1.91,1.91,0,0,1,.58,1.4,1.91,1.91,0,0,1-.58,1.4L9.25,21ZM18.45,9,17,7.55Zm-12,3A5.31,5.31,0,0,0,4.9,8.1,5.31,5.31,0,0,0,1,6.5,5.31,5.31,0,0,0,4.9,4.9,5.31,5.31,0,0,0,6.5,1,5.31,5.31,0,0,0,8.1,4.9,5.31,5.31,0,0,0,12,6.5,5.46,5.46,0,0,0,6.5,12Z\"/>\n",
              "  </svg>\n",
              "    </button>\n",
              "    <script>\n",
              "      (() => {\n",
              "      const buttonEl =\n",
              "        document.querySelector('#id_d2a41ec6-5e2f-4d4e-a139-28a1f2fcfa8f button.colab-df-generate');\n",
              "      buttonEl.style.display =\n",
              "        google.colab.kernel.accessAllowed ? 'block' : 'none';\n",
              "\n",
              "      buttonEl.onclick = () => {\n",
              "        google.colab.notebook.generateWithVariable('df');\n",
              "      }\n",
              "      })();\n",
              "    </script>\n",
              "  </div>\n",
              "\n",
              "    </div>\n",
              "  </div>\n"
            ]
          },
          "metadata": {},
          "execution_count": 5
        }
      ],
      "source": [
        "df = pd.DataFrame(anno_list)\n",
        "df"
      ]
    },
    {
      "cell_type": "code",
      "execution_count": null,
      "metadata": {
        "id": "sq-g4Gz448bM"
      },
      "outputs": [],
      "source": [
        "cropped_img = []\n",
        "labelofimg = []\n",
        "import tensorflow as tf\n",
        "from skimage.io import imread\n",
        "from skimage.color import rgb2gray\n",
        "from skimage.transform import resize\n",
        "\n",
        "for file in os.listdir(input_dir):\n",
        "  img_path = os.path.join(input_dir, file)\n",
        "  for row in df.index:\n",
        "    if(df['filename'][row] == file[:-3] + 'xml'):\n",
        "      img = imread(img_path)\n",
        "      image = tf.image.crop_to_bounding_box(img, int(float(df['ymin'][row])), int(float(df['xmin'][row])), int(float(df['ymax'][row]) - float(df['ymin'][row])), int(float(df['xmax'][row]) - float(df['xmin'][row])))\n",
        "      image = rgb2gray(image)\n",
        "      image = resize(image, (100,100))\n",
        "      cropped_img.append(image)\n",
        "      labelofimg.append(df['name'][row])"
      ]
    },
    {
      "cell_type": "code",
      "execution_count": null,
      "metadata": {
        "id": "Fde-MFkzVjeS"
      },
      "outputs": [],
      "source": [
        "dfodometer = pd.DataFrame(odometer_list)"
      ]
    },
    {
      "cell_type": "code",
      "execution_count": null,
      "metadata": {
        "colab": {
          "base_uri": "https://localhost:8080/",
          "height": 424
        },
        "id": "TTAmQ8YLMXB8",
        "outputId": "b82b830c-b78f-4e7f-efa6-667119bd930a"
      },
      "outputs": [
        {
          "output_type": "execute_result",
          "data": {
            "text/plain": [
              "(-0.5, 99.5, 99.5, -0.5)"
            ]
          },
          "metadata": {},
          "execution_count": 9
        },
        {
          "output_type": "display_data",
          "data": {
            "text/plain": [
              "<Figure size 640x480 with 1 Axes>"
            ],
            "image/png": "[encoded data removed]"
          },
          "metadata": {}
        }
      ],
      "source": [
        "import matplotlib as mpl\n",
        "import matplotlib.pyplot as plt\n",
        "plt.imshow(cropped_img[543], cmap=mpl.cm.binary)\n",
        "plt.axis(\"off\")"
      ]
    },
    {
      "cell_type": "code",
      "execution_count": null,
      "metadata": {
        "id": "D-zguXdaVTYa"
      },
      "outputs": [],
      "source": [
        "odometer_img = []\n",
        "labelofodometer = []\n",
        "\n",
        "for file in os.listdir(input_dir):\n",
        "  img_path = os.path.join(input_dir, file)\n",
        "  for row in dfodometer.index:\n",
        "    if(dfodometer['filename'][row] == file[:-3] + 'xml'):\n",
        "      img = imread(img_path)\n",
        "      image = tf.image.crop_to_bounding_box(img, int(float(dfodometer['ymin'][row])),\n",
        "                                            int(float(dfodometer['xmin'][row])),\n",
        "                                            int(float(dfodometer['ymax'][row]) - float(dfodometer['ymin'][row])),\n",
        "                                            int(float(dfodometer['xmax'][row]) - float(dfodometer['xmin'][row])))\n",
        "      image = rgb2gray(image)\n",
        "      odometer_img.append(image)\n",
        "      labelofodometer.append(file)"
      ]
    },
    {
      "cell_type": "code",
      "execution_count": null,
      "metadata": {
        "colab": {
          "base_uri": "https://localhost:8080/",
          "height": 289
        },
        "id": "kXzV9HMgWvkH",
        "outputId": "a5fbe8f6-4f51-45d7-e1e5-47b0489c9185"
      },
      "outputs": [
        {
          "data": {
            "text/plain": [
              "(-0.5, 495.5, 233.5, -0.5)"
            ]
          },
          "execution_count": 18,
          "metadata": {},
          "output_type": "execute_result"
        },
        {
          "data": {
            "image/png": "[encoded data removed]",
            "text/plain": [
              "<Figure size 640x480 with 1 Axes>"
            ]
          },
          "metadata": {},
          "output_type": "display_data"
        }
      ],
      "source": [
        "plt.imshow(odometer_img[678], cmap=mpl.cm.binary)\n",
        "plt.axis(\"off\")"
      ]
    },
    {
      "cell_type": "code",
      "execution_count": null,
      "metadata": {
        "id": "rXOZGl0o6cYg"
      },
      "outputs": [],
      "source": [
        "from sklearn.model_selection import train_test_split\n",
        "cropped_img = np.asarray(cropped_img)\n",
        "labelofimg = np.asarray(labelofimg)\n",
        "x_train_2, x_test_2, y_train_2, y_test_2 = train_test_split(cropped_img, labelofimg, test_size=0.2, shuffle=True, stratify=labelofimg)"
      ]
    },
    {
      "cell_type": "code",
      "execution_count": null,
      "metadata": {
        "colab": {
          "base_uri": "https://localhost:8080/",
          "height": 363
        },
        "id": "BkCqB4QbW4Xu",
        "outputId": "6c5878e8-5e14-4de0-948a-d3a292b61bbd"
      },
      "outputs": [
        {
          "data": {
            "text/html": [
              "\n",
              "  <div id=\"df-7f0e5cc8-58ab-4df5-8459-b898c5a47bb2\" class=\"colab-df-container\">\n",
              "    <div>\n",
              "<style scoped>\n",
              "    .dataframe tbody tr th:only-of-type {\n",
              "        vertical-align: middle;\n",
              "    }\n",
              "\n",
              "    .dataframe tbody tr th {\n",
              "        vertical-align: top;\n",
              "    }\n",
              "\n",
              "    .dataframe thead th {\n",
              "        text-align: right;\n",
              "    }\n",
              "</style>\n",
              "<table border=\"1\" class=\"dataframe\">\n",
              "  <thead>\n",
              "    <tr style=\"text-align: right;\">\n",
              "      <th></th>\n",
              "      <th>filename</th>\n",
              "      <th>name</th>\n",
              "      <th>xmin</th>\n",
              "      <th>ymin</th>\n",
              "      <th>xmax</th>\n",
              "      <th>ymax</th>\n",
              "    </tr>\n",
              "  </thead>\n",
              "  <tbody>\n",
              "    <tr>\n",
              "      <th>21205</th>\n",
              "      <td>00000573-PHOTO-2020-11-30-13-26-03.xml</td>\n",
              "      <td>9</td>\n",
              "      <td>547.2</td>\n",
              "      <td>364.28</td>\n",
              "      <td>559.44</td>\n",
              "      <td>384.44</td>\n",
              "    </tr>\n",
              "    <tr>\n",
              "      <th>21206</th>\n",
              "      <td>00000573-PHOTO-2020-11-30-13-26-03.xml</td>\n",
              "      <td>9</td>\n",
              "      <td>534.28</td>\n",
              "      <td>364.84</td>\n",
              "      <td>546.88</td>\n",
              "      <td>384.76</td>\n",
              "    </tr>\n",
              "    <tr>\n",
              "      <th>21207</th>\n",
              "      <td>00000573-PHOTO-2020-11-30-13-26-03.xml</td>\n",
              "      <td>8</td>\n",
              "      <td>603.81</td>\n",
              "      <td>337.82</td>\n",
              "      <td>616.92</td>\n",
              "      <td>360.28</td>\n",
              "    </tr>\n",
              "    <tr>\n",
              "      <th>21208</th>\n",
              "      <td>00000573-PHOTO-2020-11-30-13-26-03.xml</td>\n",
              "      <td>8</td>\n",
              "      <td>592.0</td>\n",
              "      <td>338.25</td>\n",
              "      <td>603.67</td>\n",
              "      <td>361.0</td>\n",
              "    </tr>\n",
              "    <tr>\n",
              "      <th>21209</th>\n",
              "      <td>00000573-PHOTO-2020-11-30-13-26-03.xml</td>\n",
              "      <td>8</td>\n",
              "      <td>627.61</td>\n",
              "      <td>336.26</td>\n",
              "      <td>641.8</td>\n",
              "      <td>359.4</td>\n",
              "    </tr>\n",
              "    <tr>\n",
              "      <th>21210</th>\n",
              "      <td>00000573-PHOTO-2020-11-30-13-26-03.xml</td>\n",
              "      <td>1</td>\n",
              "      <td>516.24</td>\n",
              "      <td>366.44</td>\n",
              "      <td>521.88</td>\n",
              "      <td>386.24</td>\n",
              "    </tr>\n",
              "    <tr>\n",
              "      <th>21211</th>\n",
              "      <td>00000573-PHOTO-2020-11-30-13-26-03.xml</td>\n",
              "      <td>1</td>\n",
              "      <td>579.72</td>\n",
              "      <td>363.44</td>\n",
              "      <td>585.72</td>\n",
              "      <td>383.36</td>\n",
              "    </tr>\n",
              "    <tr>\n",
              "      <th>21212</th>\n",
              "      <td>00000573-PHOTO-2020-11-30-13-26-03.xml</td>\n",
              "      <td>2</td>\n",
              "      <td>560.52</td>\n",
              "      <td>363.2</td>\n",
              "      <td>572.64</td>\n",
              "      <td>384.56</td>\n",
              "    </tr>\n",
              "    <tr>\n",
              "      <th>21213</th>\n",
              "      <td>00000573-PHOTO-2020-11-30-13-26-03.xml</td>\n",
              "      <td>0</td>\n",
              "      <td>471.5</td>\n",
              "      <td>367.7</td>\n",
              "      <td>483.7</td>\n",
              "      <td>387.5</td>\n",
              "    </tr>\n",
              "    <tr>\n",
              "      <th>21214</th>\n",
              "      <td>00000573-PHOTO-2020-11-30-13-26-03.xml</td>\n",
              "      <td>4</td>\n",
              "      <td>522.0</td>\n",
              "      <td>366.32</td>\n",
              "      <td>534.0</td>\n",
              "      <td>385.16</td>\n",
              "    </tr>\n",
              "  </tbody>\n",
              "</table>\n",
              "</div>\n",
              "    <div class=\"colab-df-buttons\">\n",
              "\n",
              "  <div class=\"colab-df-container\">\n",
              "    <button class=\"colab-df-convert\" onclick=\"convertToInteractive('df-7f0e5cc8-58ab-4df5-8459-b898c5a47bb2')\"\n",
              "            title=\"Convert this dataframe to an interactive table.\"\n",
              "            style=\"display:none;\">\n",
              "\n",
              "  <svg xmlns=\"http://www.w3.org/2000/svg\" height=\"24px\" viewBox=\"0 -960 960 960\">\n",
              "    <path d=\"M120-120v-720h720v720H120Zm60-500h600v-160H180v160Zm220 220h160v-160H400v160Zm0 220h160v-160H400v160ZM180-400h160v-160H180v160Zm440 0h160v-160H620v160ZM180-180h160v-160H180v160Zm440 0h160v-160H620v160Z\"/>\n",
              "  </svg>\n",
              "    </button>\n",
              "\n",
              "  <style>\n",
              "    .colab-df-container {\n",
              "      display:flex;\n",
              "      gap: 12px;\n",
              "    }\n",
              "\n",
              "    .colab-df-convert {\n",
              "      background-color: #E8F0FE;\n",
              "      border: none;\n",
              "      border-radius: 50%;\n",
              "      cursor: pointer;\n",
              "      display: none;\n",
              "      fill: #1967D2;\n",
              "      height: 32px;\n",
              "      padding: 0 0 0 0;\n",
              "      width: 32px;\n",
              "    }\n",
              "\n",
              "    .colab-df-convert:hover {\n",
              "      background-color: #E2EBFA;\n",
              "      box-shadow: 0px 1px 2px rgba(60, 64, 67, 0.3), 0px 1px 3px 1px rgba(60, 64, 67, 0.15);\n",
              "      fill: #174EA6;\n",
              "    }\n",
              "\n",
              "    .colab-df-buttons div {\n",
              "      margin-bottom: 4px;\n",
              "    }\n",
              "\n",
              "    [theme=dark] .colab-df-convert {\n",
              "      background-color: #3B4455;\n",
              "      fill: #D2E3FC;\n",
              "    }\n",
              "\n",
              "    [theme=dark] .colab-df-convert:hover {\n",
              "      background-color: #434B5C;\n",
              "      box-shadow: 0px 1px 3px 1px rgba(0, 0, 0, 0.15);\n",
              "      filter: drop-shadow(0px 1px 2px rgba(0, 0, 0, 0.3));\n",
              "      fill: #FFFFFF;\n",
              "    }\n",
              "  </style>\n",
              "\n",
              "    <script>\n",
              "      const buttonEl =\n",
              "        document.querySelector('#df-7f0e5cc8-58ab-4df5-8459-b898c5a47bb2 button.colab-df-convert');\n",
              "      buttonEl.style.display =\n",
              "        google.colab.kernel.accessAllowed ? 'block' : 'none';\n",
              "\n",
              "      async function convertToInteractive(key) {\n",
              "        const element = document.querySelector('#df-7f0e5cc8-58ab-4df5-8459-b898c5a47bb2');\n",
              "        const dataTable =\n",
              "          await google.colab.kernel.invokeFunction('convertToInteractive',\n",
              "                                                    [key], {});\n",
              "        if (!dataTable) return;\n",
              "\n",
              "        const docLinkHtml = 'Like what you see? Visit the ' +\n",
              "          '<a target=\"_blank\" href=https://colab.research.google.com/notebooks/data_table.ipynb>data table notebook</a>'\n",
              "          + ' to learn more about interactive tables.';\n",
              "        element.innerHTML = '';\n",
              "        dataTable['output_type'] = 'display_data';\n",
              "        await google.colab.output.renderOutput(dataTable, element);\n",
              "        const docLink = document.createElement('div');\n",
              "        docLink.innerHTML = docLinkHtml;\n",
              "        element.appendChild(docLink);\n",
              "      }\n",
              "    </script>\n",
              "  </div>\n",
              "\n",
              "\n",
              "<div id=\"df-2920c96a-4b46-4c10-8292-f255af8ff727\">\n",
              "  <button class=\"colab-df-quickchart\" onclick=\"quickchart('df-2920c96a-4b46-4c10-8292-f255af8ff727')\"\n",
              "            title=\"Suggest charts\"\n",
              "            style=\"display:none;\">\n",
              "\n",
              "<svg xmlns=\"http://www.w3.org/2000/svg\" height=\"24px\"viewBox=\"0 0 24 24\"\n",
              "     width=\"24px\">\n",
              "    <g>\n",
              "        <path d=\"M19 3H5c-1.1 0-2 .9-2 2v14c0 1.1.9 2 2 2h14c1.1 0 2-.9 2-2V5c0-1.1-.9-2-2-2zM9 17H7v-7h2v7zm4 0h-2V7h2v10zm4 0h-2v-4h2v4z\"/>\n",
              "    </g>\n",
              "</svg>\n",
              "  </button>\n",
              "\n",
              "<style>\n",
              "  .colab-df-quickchart {\n",
              "      --bg-color: #E8F0FE;\n",
              "      --fill-color: #1967D2;\n",
              "      --hover-bg-color: #E2EBFA;\n",
              "      --hover-fill-color: #174EA6;\n",
              "      --disabled-fill-color: #AAA;\n",
              "      --disabled-bg-color: #DDD;\n",
              "  }\n",
              "\n",
              "  [theme=dark] .colab-df-quickchart {\n",
              "      --bg-color: #3B4455;\n",
              "      --fill-color: #D2E3FC;\n",
              "      --hover-bg-color: #434B5C;\n",
              "      --hover-fill-color: #FFFFFF;\n",
              "      --disabled-bg-color: #3B4455;\n",
              "      --disabled-fill-color: #666;\n",
              "  }\n",
              "\n",
              "  .colab-df-quickchart {\n",
              "    background-color: var(--bg-color);\n",
              "    border: none;\n",
              "    border-radius: 50%;\n",
              "    cursor: pointer;\n",
              "    display: none;\n",
              "    fill: var(--fill-color);\n",
              "    height: 32px;\n",
              "    padding: 0;\n",
              "    width: 32px;\n",
              "  }\n",
              "\n",
              "  .colab-df-quickchart:hover {\n",
              "    background-color: var(--hover-bg-color);\n",
              "    box-shadow: 0 1px 2px rgba(60, 64, 67, 0.3), 0 1px 3px 1px rgba(60, 64, 67, 0.15);\n",
              "    fill: var(--button-hover-fill-color);\n",
              "  }\n",
              "\n",
              "  .colab-df-quickchart-complete:disabled,\n",
              "  .colab-df-quickchart-complete:disabled:hover {\n",
              "    background-color: var(--disabled-bg-color);\n",
              "    fill: var(--disabled-fill-color);\n",
              "    box-shadow: none;\n",
              "  }\n",
              "\n",
              "  .colab-df-spinner {\n",
              "    border: 2px solid var(--fill-color);\n",
              "    border-color: transparent;\n",
              "    border-bottom-color: var(--fill-color);\n",
              "    animation:\n",
              "      spin 1s steps(1) infinite;\n",
              "  }\n",
              "\n",
              "  @keyframes spin {\n",
              "    0% {\n",
              "      border-color: transparent;\n",
              "      border-bottom-color: var(--fill-color);\n",
              "      border-left-color: var(--fill-color);\n",
              "    }\n",
              "    20% {\n",
              "      border-color: transparent;\n",
              "      border-left-color: var(--fill-color);\n",
              "      border-top-color: var(--fill-color);\n",
              "    }\n",
              "    30% {\n",
              "      border-color: transparent;\n",
              "      border-left-color: var(--fill-color);\n",
              "      border-top-color: var(--fill-color);\n",
              "      border-right-color: var(--fill-color);\n",
              "    }\n",
              "    40% {\n",
              "      border-color: transparent;\n",
              "      border-right-color: var(--fill-color);\n",
              "      border-top-color: var(--fill-color);\n",
              "    }\n",
              "    60% {\n",
              "      border-color: transparent;\n",
              "      border-right-color: var(--fill-color);\n",
              "    }\n",
              "    80% {\n",
              "      border-color: transparent;\n",
              "      border-right-color: var(--fill-color);\n",
              "      border-bottom-color: var(--fill-color);\n",
              "    }\n",
              "    90% {\n",
              "      border-color: transparent;\n",
              "      border-bottom-color: var(--fill-color);\n",
              "    }\n",
              "  }\n",
              "</style>\n",
              "\n",
              "  <script>\n",
              "    async function quickchart(key) {\n",
              "      const quickchartButtonEl =\n",
              "        document.querySelector('#' + key + ' button');\n",
              "      quickchartButtonEl.disabled = true;  // To prevent multiple clicks.\n",
              "      quickchartButtonEl.classList.add('colab-df-spinner');\n",
              "      try {\n",
              "        const charts = await google.colab.kernel.invokeFunction(\n",
              "            'suggestCharts', [key], {});\n",
              "      } catch (error) {\n",
              "        console.error('Error during call to suggestCharts:', error);\n",
              "      }\n",
              "      quickchartButtonEl.classList.remove('colab-df-spinner');\n",
              "      quickchartButtonEl.classList.add('colab-df-quickchart-complete');\n",
              "    }\n",
              "    (() => {\n",
              "      let quickchartButtonEl =\n",
              "        document.querySelector('#df-2920c96a-4b46-4c10-8292-f255af8ff727 button');\n",
              "      quickchartButtonEl.style.display =\n",
              "        google.colab.kernel.accessAllowed ? 'block' : 'none';\n",
              "    })();\n",
              "  </script>\n",
              "</div>\n",
              "\n",
              "    </div>\n",
              "  </div>\n"
            ],
            "text/plain": [
              "                                     filename name    xmin    ymin    xmax  \\\n",
              "21205  00000573-PHOTO-2020-11-30-13-26-03.xml    9   547.2  364.28  559.44   \n",
              "21206  00000573-PHOTO-2020-11-30-13-26-03.xml    9  534.28  364.84  546.88   \n",
              "21207  00000573-PHOTO-2020-11-30-13-26-03.xml    8  603.81  337.82  616.92   \n",
              "21208  00000573-PHOTO-2020-11-30-13-26-03.xml    8   592.0  338.25  603.67   \n",
              "21209  00000573-PHOTO-2020-11-30-13-26-03.xml    8  627.61  336.26   641.8   \n",
              "21210  00000573-PHOTO-2020-11-30-13-26-03.xml    1  516.24  366.44  521.88   \n",
              "21211  00000573-PHOTO-2020-11-30-13-26-03.xml    1  579.72  363.44  585.72   \n",
              "21212  00000573-PHOTO-2020-11-30-13-26-03.xml    2  560.52   363.2  572.64   \n",
              "21213  00000573-PHOTO-2020-11-30-13-26-03.xml    0   471.5   367.7   483.7   \n",
              "21214  00000573-PHOTO-2020-11-30-13-26-03.xml    4   522.0  366.32   534.0   \n",
              "\n",
              "         ymax  \n",
              "21205  384.44  \n",
              "21206  384.76  \n",
              "21207  360.28  \n",
              "21208   361.0  \n",
              "21209   359.4  \n",
              "21210  386.24  \n",
              "21211  383.36  \n",
              "21212  384.56  \n",
              "21213   387.5  \n",
              "21214  385.16  "
            ]
          },
          "execution_count": 11,
          "metadata": {},
          "output_type": "execute_result"
        }
      ],
      "source": [
        "df.loc[df['filename'] == '00000573-PHOTO-2020-11-30-13-26-03.xml']"
      ]
    }
  ],
  "metadata": {
    "colab": {
      "collapsed_sections": [
        "JiY-S_HaOFfM",
        "kEPoVbmIOIZo",
        "Go3qCMPxcNat",
        "gVWSWDESwrNi"
      ],
      "provenance": []
    },
    "kernelspec": {
      "display_name": "Python 3",
      "name": "python3"
    },
    "language_info": {
      "name": "python"
    }
  },
  "nbformat": 4,
  "nbformat_minor": 0
}